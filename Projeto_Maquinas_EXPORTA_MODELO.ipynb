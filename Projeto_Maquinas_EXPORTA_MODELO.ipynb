{
 "cells": [
  {
   "cell_type": "markdown",
   "id": "9bbe4e01",
   "metadata": {},
   "source": [
    "## 1. Importação de bibliotecas e carregamento dos dados"
   ]
  },
  {
   "cell_type": "code",
   "execution_count": null,
   "id": "45865ecf",
   "metadata": {},
   "outputs": [],
   "source": [
    "\n",
    "import pandas as pd\n",
    "import numpy as np\n",
    "import matplotlib.pyplot as plt\n",
    "import seaborn as sns\n",
    "\n",
    "from sklearn.model_selection import train_test_split\n",
    "from sklearn.preprocessing import LabelEncoder, MinMaxScaler\n",
    "from sklearn.metrics import mean_squared_error, r2_score, accuracy_score, classification_report, confusion_matrix\n",
    "from sklearn.linear_model import LinearRegression\n",
    "from sklearn.tree import DecisionTreeRegressor, DecisionTreeClassifier\n",
    "from sklearn.ensemble import RandomForestRegressor, RandomForestClassifier\n"
   ]
  },
  {
   "cell_type": "code",
   "execution_count": null,
   "id": "e237b66e",
   "metadata": {},
   "outputs": [],
   "source": [
    "\n",
    "# Carregar o dataset\n",
    "df = pd.read_csv('maquinas.csv')  # ajuste o caminho se necessário\n",
    "df.head()\n"
   ]
  },
  {
   "cell_type": "markdown",
   "id": "5e0c60c7",
   "metadata": {},
   "source": [
    "## 2. Análise exploratória e limpeza de dados"
   ]
  },
  {
   "cell_type": "code",
   "execution_count": null,
   "id": "d0be32f7",
   "metadata": {},
   "outputs": [],
   "source": [
    "\n",
    "# Verificar tipos e valores ausentes\n",
    "print(df.dtypes)\n",
    "print(df.isnull().sum())\n",
    "\n",
    "# Exibir estatísticas básicas\n",
    "df.describe(include='all')\n"
   ]
  },
  {
   "cell_type": "markdown",
   "id": "60306722",
   "metadata": {},
   "source": [
    "## 3. Tratamento de outliers com mediana"
   ]
  },
  {
   "cell_type": "code",
   "execution_count": null,
   "id": "5e7903b1",
   "metadata": {},
   "outputs": [],
   "source": [
    "\n",
    "df_out = df.copy()\n",
    "numericas = df_out.select_dtypes(include=['int64', 'float64']).columns\n",
    "\n",
    "for col in numericas:\n",
    "    Q1 = df_out[col].quantile(0.25)\n",
    "    Q3 = df_out[col].quantile(0.75)\n",
    "    IQR = Q3 - Q1\n",
    "    limite_inferior = Q1 - 1.5 * IQR\n",
    "    limite_superior = Q3 + 1.5 * IQR\n",
    "    mediana = df_out[col].median()\n",
    "\n",
    "    df_out[col] = np.where(\n",
    "        (df_out[col] < limite_inferior) | (df_out[col] > limite_superior),\n",
    "        mediana,\n",
    "        df_out[col]\n",
    "    )\n"
   ]
  },
  {
   "cell_type": "markdown",
   "id": "12b11789",
   "metadata": {},
   "source": [
    "## 4. Codificação de variáveis categóricas"
   ]
  },
  {
   "cell_type": "code",
   "execution_count": null,
   "id": "245d8ec4",
   "metadata": {},
   "outputs": [],
   "source": [
    "\n",
    "df_codificado = df_out.copy()\n",
    "categoricas = df_codificado.select_dtypes(include='object').columns\n",
    "label_encoders = {}\n",
    "\n",
    "for col in categoricas:\n",
    "    le = LabelEncoder()\n",
    "    df_codificado[col] = le.fit_transform(df_codificado[col])\n",
    "    label_encoders[col] = le\n"
   ]
  },
  {
   "cell_type": "markdown",
   "id": "41e0fc8d",
   "metadata": {},
   "source": [
    "## 5. Normalização das variáveis numéricas"
   ]
  },
  {
   "cell_type": "code",
   "execution_count": null,
   "id": "4a1300ce",
   "metadata": {},
   "outputs": [],
   "source": [
    "\n",
    "scaler = MinMaxScaler()\n",
    "df_normalizado = df_codificado.copy()\n",
    "df_normalizado[numericas] = pd.DataFrame(\n",
    "    scaler.fit_transform(df_normalizado[numericas]),\n",
    "    columns=numericas,\n",
    "    index=df_normalizado.index\n",
    ")\n"
   ]
  },
  {
   "cell_type": "markdown",
   "id": "eb71c0eb",
   "metadata": {},
   "source": [
    "## 6. Separação entre variáveis preditoras e alvo"
   ]
  },
  {
   "cell_type": "code",
   "execution_count": null,
   "id": "bf96ce63",
   "metadata": {},
   "outputs": [],
   "source": [
    "\n",
    "# Para regressão\n",
    "X_reg = df_normalizado.drop(columns=['preco', 'classe', 'status'])\n",
    "y_reg = df_normalizado['preco']\n",
    "\n",
    "# Para classificação\n",
    "X_class = df_normalizado.drop(columns=['status', 'classe', 'preco'])\n",
    "y_class = df_normalizado['status']\n"
   ]
  },
  {
   "cell_type": "markdown",
   "id": "745925cd",
   "metadata": {},
   "source": [
    "## 7. Modelos de regressão e classificação"
   ]
  },
  {
   "cell_type": "code",
   "execution_count": null,
   "id": "82337257",
   "metadata": {},
   "outputs": [],
   "source": [
    "\n",
    "Xr_train, Xr_test, yr_train, yr_test = train_test_split(X_reg, y_reg, test_size=0.2, random_state=42)\n",
    "\n",
    "modelo_rf = RandomForestRegressor(n_estimators=100, random_state=42)\n",
    "modelo_rf.fit(Xr_train, yr_train)\n",
    "yr_pred = modelo_rf.predict(Xr_test)\n",
    "\n",
    "rmse = np.sqrt(mean_squared_error(yr_test, yr_pred))\n",
    "r2 = r2_score(yr_test, yr_pred)\n",
    "\n",
    "print(\"Random Forest Regressor:\")\n",
    "print(f\"RMSE: {rmse:.4f}\")\n",
    "print(f\"R²: {r2:.4f}\")\n"
   ]
  },
  {
   "cell_type": "code",
   "execution_count": null,
   "id": "cd046fd9",
   "metadata": {},
   "outputs": [],
   "source": [
    "\n",
    "Xc_train, Xc_test, yc_train, yc_test = train_test_split(X_class, y_class, test_size=0.2, random_state=42)\n",
    "\n",
    "modelo_rf_clf = RandomForestClassifier(n_estimators=100, random_state=42)\n",
    "modelo_rf_clf.fit(Xc_train, yc_train)\n",
    "yc_pred = modelo_rf_clf.predict(Xc_test)\n",
    "\n",
    "acc = accuracy_score(yc_test, yc_pred)\n",
    "print(\"Random Forest Classifier:\")\n",
    "print(f\"Acurácia: {acc:.2f}\")\n",
    "print(\"Matriz de Confusão:\")\n",
    "print(confusion_matrix(yc_test, yc_pred))\n",
    "print(\"\n",
    "Relatório de Classificação:\")\n",
    "print(classification_report(yc_test, yc_pred))\n"
   ]
  },
  {
   "cell_type": "markdown",
   "id": "cc6f0348",
   "metadata": {},
   "source": [
    "## 8. Importância das variáveis preditoras"
   ]
  },
  {
   "cell_type": "code",
   "execution_count": null,
   "id": "e25174f1",
   "metadata": {},
   "outputs": [],
   "source": [
    "\n",
    "importancias_reg = modelo_rf.feature_importances_\n",
    "nomes_reg = X_reg.columns\n",
    "indices_reg = np.argsort(importancias_reg)[::-1]\n",
    "\n",
    "plt.figure(figsize=(10, 6))\n",
    "plt.title(\"Importância das Variáveis - Regressão (preço)\")\n",
    "plt.bar(range(len(importancias_reg)), importancias_reg[indices_reg])\n",
    "plt.xticks(range(len(importancias_reg)), nomes_reg[indices_reg], rotation=45, ha='right')\n",
    "plt.tight_layout()\n",
    "plt.show()\n"
   ]
  },
  {
   "cell_type": "code",
   "execution_count": null,
   "id": "80a0d075",
   "metadata": {},
   "outputs": [],
   "source": [
    "\n",
    "importancias_clf = modelo_rf_clf.feature_importances_\n",
    "nomes_clf = X_class.columns\n",
    "indices_clf = np.argsort(importancias_clf)[::-1]\n",
    "\n",
    "plt.figure(figsize=(10, 6))\n",
    "plt.title(\"Importância das Variáveis - Classificação (status)\")\n",
    "plt.bar(range(len(importancias_clf)), importancias_clf[indices_clf])\n",
    "plt.xticks(range(len(importancias_clf)), nomes_clf[indices_clf], rotation=45, ha='right')\n",
    "plt.tight_layout()\n",
    "plt.show()\n"
   ]
  },
  {
   "cell_type": "markdown",
   "id": "fb931690",
   "metadata": {},
   "source": [
    "## 📊 Visualizações Extras"
   ]
  },
  {
   "cell_type": "code",
   "execution_count": null,
   "id": "4437419c",
   "metadata": {},
   "outputs": [],
   "source": [
    "\n",
    "# Boxplot das variáveis numéricas\n",
    "plt.figure(figsize=(15, 8))\n",
    "df_normalizado.boxplot(rot=45)\n",
    "plt.title(\"Boxplot das Variáveis Numéricas (normalizadas)\")\n",
    "plt.show()\n"
   ]
  },
  {
   "cell_type": "code",
   "execution_count": null,
   "id": "b15a3724",
   "metadata": {},
   "outputs": [],
   "source": [
    "\n",
    "# Pairplot com amostra para não travar\n",
    "sns.pairplot(df_normalizado.sample(n=200, random_state=42))\n",
    "plt.suptitle(\"Pairplot com Amostra\", y=1.02)\n",
    "plt.show()\n"
   ]
  },
  {
   "cell_type": "markdown",
   "id": "d63ef099",
   "metadata": {},
   "source": [
    "## 💾 Exportação do DataFrame Tratado"
   ]
  },
  {
   "cell_type": "code",
   "execution_count": null,
   "id": "3f9203e8",
   "metadata": {},
   "outputs": [],
   "source": [
    "\n",
    "# Exportar o DataFrame tratado\n",
    "df_normalizado.to_csv(\"maquinas_tratado.csv\", index=False)\n",
    "print(\"Arquivo 'maquinas_tratado.csv' exportado com sucesso.\")\n"
   ]
  },
  {
   "cell_type": "code",
   "execution_count": null,
   "id": "533a46bc",
   "metadata": {},
   "outputs": [],
   "source": [
    "\n",
    "import joblib\n",
    "\n",
    "# Exportar modelo de regressão (previsão de preço)\n",
    "joblib.dump(modelo_rf, \"modelo_preco.pkl\")\n",
    "print(\"Modelo salvo como modelo_preco.pkl\")\n"
   ]
  }
 ],
 "metadata": {},
 "nbformat": 4,
 "nbformat_minor": 5
}
